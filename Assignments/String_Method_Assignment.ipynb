{
 "cells": [
  {
   "cell_type": "markdown",
   "id": "2a2939c7",
   "metadata": {},
   "source": [
    "# PrintingString"
   ]
  },
  {
   "cell_type": "code",
   "execution_count": 9,
   "id": "ce380228",
   "metadata": {},
   "outputs": [
    {
     "name": "stdout",
     "output_type": "stream",
     "text": [
      "Hello\n",
      "o\n"
     ]
    }
   ],
   "source": [
    "#printing a string\n",
    "b = \"Hello\"\n",
    "print(b)\n",
    "print(b[4])"
   ]
  },
  {
   "cell_type": "markdown",
   "id": "7c1737fe",
   "metadata": {},
   "source": [
    "# length, upper and lower functions"
   ]
  },
  {
   "cell_type": "code",
   "execution_count": 10,
   "id": "0a53b837",
   "metadata": {},
   "outputs": [
    {
     "name": "stdout",
     "output_type": "stream",
     "text": [
      "15\n",
      "KING OF PIRATES\n",
      "king of pirates\n"
     ]
    }
   ],
   "source": [
    "a = \"King of Pirates\"\n",
    "#prints the length of the string\n",
    "print(len(a))\n",
    "\n",
    "#prints the string in Upper case\n",
    "print(a.upper())\n",
    "\n",
    "#prints the string in lower case\n",
    "print(a.lower())"
   ]
  },
  {
   "cell_type": "markdown",
   "id": "bb6116bd",
   "metadata": {},
   "source": [
    "# String Concatenation"
   ]
  },
  {
   "cell_type": "code",
   "execution_count": 11,
   "id": "457934ca",
   "metadata": {},
   "outputs": [
    {
     "name": "stdout",
     "output_type": "stream",
     "text": [
      "Roronoa Zoro\n"
     ]
    }
   ],
   "source": [
    "a = \"Roronoa\"\n",
    "b = \"Zoro\"\n",
    "c = a + \" \" + b\n",
    "print(c)"
   ]
  },
  {
   "cell_type": "markdown",
   "id": "2e1adbee",
   "metadata": {},
   "source": [
    "# String Slicing"
   ]
  },
  {
   "cell_type": "code",
   "execution_count": 13,
   "id": "b7660559",
   "metadata": {},
   "outputs": [
    {
     "name": "stdout",
     "output_type": "stream",
     "text": [
      "Acad\n"
     ]
    }
   ],
   "source": [
    "#String slicing can be used to extract a part of the string(substring)\n",
    "a = \"Academia\"\n",
    "print(a[0:4])"
   ]
  },
  {
   "cell_type": "markdown",
   "id": "3dac20a6",
   "metadata": {},
   "source": [
    "# Checking whether string has alphabets or digits"
   ]
  },
  {
   "cell_type": "code",
   "execution_count": 19,
   "id": "cc361c7b",
   "metadata": {},
   "outputs": [
    {
     "name": "stdout",
     "output_type": "stream",
     "text": [
      "True\n",
      "True\n",
      "False\n"
     ]
    }
   ],
   "source": [
    "a = \"Pirates\"\n",
    "\n",
    "#checking whether string contains only alphabetic letters or digits\n",
    "print(a.isalnum())\n",
    "\n",
    "##checking whether string contains only alphabetic letters\n",
    "print(a.isalpha())\n",
    "\n",
    "#checking whether string contains only numeric digits\n",
    "print(a.isdigit())"
   ]
  },
  {
   "cell_type": "markdown",
   "id": "faebad66",
   "metadata": {},
   "source": [
    "# lowercase and uppercase functions"
   ]
  },
  {
   "cell_type": "code",
   "execution_count": 20,
   "id": "b8f6cb17",
   "metadata": {},
   "outputs": [
    {
     "name": "stdout",
     "output_type": "stream",
     "text": [
      "False\n",
      "False\n",
      "devil fruit\n",
      "DEVIL FRUIT\n"
     ]
    }
   ],
   "source": [
    "a = \"Devil Fruit\"\n",
    "#prints whether given string is in uppercase or not\n",
    "print(a.isupper())\n",
    "\n",
    "#prints whether given string is in lowercase or not\n",
    "print(a.islower())\n",
    "\n",
    "#prints the given string with all lowercase letters\n",
    "print(a.lower())\n",
    "\n",
    "#prints the given string with all uppercase letters\n",
    "print(a.upper())"
   ]
  },
  {
   "cell_type": "markdown",
   "id": "de26dc94",
   "metadata": {},
   "source": [
    "# strip functions"
   ]
  },
  {
   "cell_type": "code",
   "execution_count": 25,
   "id": "01a4f034",
   "metadata": {},
   "outputs": [
    {
     "name": "stdout",
     "output_type": "stream",
     "text": [
      "Trafalgar     \n",
      "falgar\n",
      "     Trafalgar\n",
      "Trafal\n",
      "Trafalgar\n",
      "afalga\n"
     ]
    }
   ],
   "source": [
    "a = \"Trafalgar\"\n",
    "b = \"     Trafalgar     \"\n",
    "\n",
    "#returns string with all leading whitespaces removed\n",
    "print(b.lstrip())\n",
    "\n",
    "#returns string after removing all instances of the argument string that appear at the beginning of the string\n",
    "print(a.lstrip(\"Tra\"))\n",
    "\n",
    "#returns string with all trailing whitespaces removed\n",
    "print(b.rstrip())\n",
    "\n",
    "#returns string after removing all instances of the argument string that appear at the end of the string\n",
    "print(a.rstrip(\"gar\"))\n",
    "\n",
    "#returns string with all leading and trailing white spaces removed\n",
    "print(b.strip())\n",
    "\n",
    "#returns string after removing all instances of the argument string that appear at the end and beginning of the string\n",
    "print(a.strip(\"Tr\"))"
   ]
  },
  {
   "cell_type": "markdown",
   "id": "d0da89fb",
   "metadata": {},
   "source": [
    "# Substring Functions"
   ]
  },
  {
   "cell_type": "code",
   "execution_count": 28,
   "id": "b0fcbfef",
   "metadata": {},
   "outputs": [
    {
     "name": "stdout",
     "output_type": "stream",
     "text": [
      "True\n",
      "True\n",
      "8\n",
      "phanesh is a graduate!\n"
     ]
    }
   ],
   "source": [
    "a = 'phanesh is a student!'\n",
    "\n",
    "#returns true if string starts with the argument string\n",
    "print(a.startswith('phan'))\n",
    "\n",
    "#returns true if string end with the argument string\n",
    "print(a.endswith('ent!'))\n",
    "\n",
    "#returns lowest index in string where substring is found\n",
    "print(a.find(\"is\"))\n",
    "\n",
    "#replaces first argument with second argument in the string\n",
    "print(a.replace('student', 'graduate'))"
   ]
  },
  {
   "cell_type": "markdown",
   "id": "0ed3d85a",
   "metadata": {},
   "source": [
    "# Split functions or Tokenization"
   ]
  },
  {
   "cell_type": "code",
   "execution_count": 29,
   "id": "79f619a5",
   "metadata": {},
   "outputs": [
    {
     "name": "stdout",
     "output_type": "stream",
     "text": [
      "['phanesh', 'is', 'a', 'student!']\n",
      "['1', '2', '3', '4', '5', '6', '7', '8', '9', '10']\n"
     ]
    }
   ],
   "source": [
    "#splits the string as tokens with space as delimeter when delimeter is not mentioned\n",
    "a = 'phanesh is a student!'\n",
    "a_list = a.split()\n",
    "print(a_list)\n",
    "\n",
    "#splits the string as tokens with the given argument as delimeter\n",
    "b = '1,2,3,4,5,6,7,8,9,10'\n",
    "b_list = b.split(',')\n",
    "print(b_list)"
   ]
  },
  {
   "cell_type": "markdown",
   "id": "ef14e7c0",
   "metadata": {},
   "source": [
    "# Regex Functions"
   ]
  },
  {
   "cell_type": "code",
   "execution_count": 9,
   "id": "6f187c20",
   "metadata": {},
   "outputs": [
    {
     "name": "stdout",
     "output_type": "stream",
     "text": [
      "['abc', 'abc', 'abc', 'abc', 'abc']\n",
      "['abc', 'xyz', 'xyz']\n",
      "['Homer Simpson', 'Marge Simpson']\n",
      "['Homer', 'Marge']\n",
      "['Good', 'Gold']\n",
      "['For']\n",
      "[]\n",
      "['fall']\n"
     ]
    }
   ],
   "source": [
    "import regex as re\n",
    "\n",
    "#tokenization with regex functions \n",
    "def tokeniser(text):\n",
    "    return re.findall(r'abc',text)\n",
    "x = tokeniser(\"abcd 45abc abc% abc.com acbrx .=.abc.=. ab c cba ABC \")\n",
    "print(x)\n",
    "\n",
    "#tokenization with regex functions where | means 'or'\n",
    "def tokenize(text):\n",
    "    return re.findall(r'abc|xyz', text)\n",
    "y = tokenize(\"abcd xsdxyz xyz derf\")\n",
    "print(y)\n",
    "\n",
    "#another application of | in tokenization using regex functions\n",
    "def tokenize1(text):\n",
    "    return re.findall(r'Homer Simpson|Marge Simpson', text)\n",
    "def tokenize2(text):\n",
    "    return re.findall(r'(Homer|Marge) Simpson', text)\n",
    "\n",
    "x = tokenize1(\"Homer Williams Homer Simpson   Marge Simpson\")\n",
    "print(x)\n",
    "x = tokenize2(\"Homer Williams Homer Simpson   Marge Simpson\")\n",
    "print(x)\n",
    "\n",
    "#dot (.) in tokenisation denotes any character other than \\n\n",
    "def tokenize3(text):\n",
    "    return re.findall(r'Go.d', text)\n",
    "x = tokenize3(\"Good people always say that Gods favour only the Gold\")\n",
    "print(x)\n",
    "\n",
    "#^ in tokenisation matches the beginning of a line and returns only the mentioned part\n",
    "def tokenize4(text):\n",
    "    return re.findall(r'^For', text)\n",
    "x = tokenize4(\"Forget \")\n",
    "print(x)\n",
    "y= tokenize4(\"forget\")\n",
    "print(y)\n",
    "\n",
    "#$ in tokenisation matches the ending of a line and returns only the mentioned part\n",
    "def tokenize5(text):\n",
    "    return re.findall(r'fall$', text)\n",
    "x = tokenize5(\"That's a beautiful Waterfall\")\n",
    "print(x)\n"
   ]
  },
  {
   "cell_type": "code",
   "execution_count": null,
   "id": "9aecd4fb",
   "metadata": {},
   "outputs": [],
   "source": []
  }
 ],
 "metadata": {
  "kernelspec": {
   "display_name": "Python 3 (ipykernel)",
   "language": "python",
   "name": "python3"
  },
  "language_info": {
   "codemirror_mode": {
    "name": "ipython",
    "version": 3
   },
   "file_extension": ".py",
   "mimetype": "text/x-python",
   "name": "python",
   "nbconvert_exporter": "python",
   "pygments_lexer": "ipython3",
   "version": "3.9.13"
  }
 },
 "nbformat": 4,
 "nbformat_minor": 5
}
